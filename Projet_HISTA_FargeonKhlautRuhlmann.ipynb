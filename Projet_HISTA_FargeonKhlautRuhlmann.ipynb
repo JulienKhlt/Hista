{
 "cells": [
  {
   "cell_type": "markdown",
   "metadata": {},
   "source": [
    "Aaron FARGEON  \n",
    "Julien KHLAUT  \n",
    "Pierre-Louis RUHLMANN"
   ]
  },
  {
   "cell_type": "markdown",
   "metadata": {},
   "source": [
    "# PROJECT 3 : PERFORMANCE OF THE LASSO IN HIGH-DEMENSIONAL LINEAR REGRESSION"
   ]
  },
  {
   "cell_type": "code",
   "execution_count": 4,
   "metadata": {},
   "outputs": [],
   "source": [
    "import numpy as np\n",
    "import matplotlib.pyplot as plt\n",
    "import scipy.optimize as opt\n",
    "\n",
    "plt.rcParams.update({\n",
    "    \"text.usetex\": True,\n",
    "    \"font.family\": \"serif\",\n",
    "    \"font.sans-serif\": [\"Computer Modern\"]})"
   ]
  },
  {
   "cell_type": "markdown",
   "metadata": {},
   "source": [
    "We consider a linear model where one observes iid observations $$y_i = x_i^T \\beta^* + \\varepsilon_i$$ where $x_i$ has iid $\\mathcal{N}(0,1)$ entries and $\\varepsilon_i \\sim \\mathcal{N}(0,\\sigma^2)$. The goal is to study the performance of the Lasso\n",
    "\n",
    "\\begin{equation}\n",
    "    \\tag{L}\n",
    "    \\hat{\\beta} = \\underset{b \\in \\mathbb{R}^p}{\\text{argmin}} \\frac{1}{n} \\sum\\limits_{i=1}^n \\frac{(y_i - x_i^T b)^2}{2} + n^{-\\frac{1}{2}} \\lambda \\vert \\vert b \\vert \\vert_1\n",
    "\\end{equation}\n",
    "\n",
    "where $\\lambda > 0$ is a tuning parameter."
   ]
  },
  {
   "cell_type": "markdown",
   "metadata": {},
   "source": [
    "We focus on the situation where if $p, n$ are high but of the same order, i.e. $\\frac{n}{p} = \\delta$ (or $\\frac{p}{n} \\rightarrow \\delta$) for some constant $\\delta > 0$ independent of $n,p$. We will also assume that for each $n,p$, the true $\\beta^*$ is such that $\\beta^*_j = \\frac{\\Theta_j}{\\sqrt{p}}$ where $\\Theta_1,...,\\Theta_p$ are iid random variables of the form $\\Theta_j=r_j B_j$ where $Bj$ has the Bernoulli distribution with parameter 0.128 and $r_j \\in \\{\\pm1\\}$ is a random sign independent of $B_j$ with $\\mathbb{E}[r_j] = 0$. The true parameter $\\beta^*$ is thus “sparse” in the sense that, approximately, only 12.8 percent of coordinates are nonzero."
   ]
  },
  {
   "cell_type": "markdown",
   "metadata": {},
   "source": [
    "#### First task  \n",
    "Set $\\delta = 0.64$ and $\\sigma^2 = 0.2$. For each tuning parameter $\\lambda$ on a grid of equispaced points in $[0,2.5]$, compute 10 different datasets with $p= 400$, $n=p \\delta$, design matrix $X$ with iid entries, $\\varepsilon_i \\sim \\mathcal{N}(0,\\sigma^2)$, $\\beta^* \\in \\mathbb{R}^p$ generated with iid components $\\frac{\\Theta_j}{\\sqrt{p}}$ as  explained above, and for each dataset compute the  estimator $\\hat{\\beta}$ in $(\\text{L})$ and report its performance $\\vert \\vert \\hat{\\beta} − \\beta^* \\vert \\vert^2$ in boxplots where the $x$-axis represents $\\lambda$ and the $y$-axis $\\vert \\vert \\hat{\\beta} − \\beta^* \\vert \\vert^2$. You can for instance use seaborn’s boxplot. If your computer is sufficiently powerful, plot similar boxplots with $p = 600$ and/or $p= 800$ with always $n=p \\delta$, $\\delta= 0.64$."
   ]
  },
  {
   "cell_type": "code",
   "execution_count": 2,
   "metadata": {},
   "outputs": [],
   "source": [
    "def lasso(b, y, X, n, l):\n",
    "    return np.mean((y - np.dot(X.T, b))**2 / 2) + (l * np.linalg.norm(b, ord = 1)) / np.sqrt(n)\n",
    "    "
   ]
  },
  {
   "cell_type": "code",
   "execution_count": 3,
   "metadata": {},
   "outputs": [
    {
     "data": {
      "text/plain": [
       "[<matplotlib.lines.Line2D at 0x7f516032b0d0>]"
      ]
     },
     "execution_count": 3,
     "metadata": {},
     "output_type": "execute_result"
    },
    {
     "data": {
      "image/png": "[encoded data removed]",
      "text/plain": [
       "<Figure size 432x288 with 1 Axes>"
      ]
     },
     "metadata": {
      "needs_background": "light"
     },
     "output_type": "display_data"
    }
   ],
   "source": [
    "delta = 0.64\n",
    "sigma2 = 0.2\n",
    "\n",
    "grid = np.linspace(0, 2.5, 10)\n",
    "\n",
    "p = 400\n",
    "n = int(p * delta)\n",
    "\n",
    "diff = []\n",
    "\n",
    "for l in grid:\n",
    "    \n",
    "    for i in range(n):\n",
    "        x = np.random.normal(0, 1, size = (p,1))\n",
    "        if i == 0:\n",
    "            X = x\n",
    "        else:\n",
    "            X = np.concatenate((X,x), axis = 1)\n",
    "            \n",
    "    epsilon = np.random.normal(0, sigma2, size = (n,1))\n",
    "    \n",
    "    beta_star = np.zeros((p,1))\n",
    "    for j in range(p):\n",
    "        rj = np.random.choice(np.array([-1, 1]))\n",
    "        Bj = np.random.binomial(1, 0.128)\n",
    "        beta_star[j,0] = (rj * Bj) / np.sqrt(p)\n",
    "    \n",
    "    y = np.dot(X.T, beta_star) + epsilon\n",
    "    \n",
    "    def lasso_l(b):\n",
    "        return lasso(b, y, X, n, l)\n",
    "    \n",
    "    beta_star = np.array([beta_star[j,0] for j in range(p)])\n",
    "    beta_hat = opt.minimize(lasso_l, beta_star)\n",
    "    \n",
    "    diff.append(np.linalg.norm(beta_hat.x - beta_star))\n",
    "\n",
    "plt.plot(grid, diff)\n"
   ]
  },
  {
   "cell_type": "markdown",
   "metadata": {},
   "source": [
    "#### A system of two linear equations  \\n\n",
    "Throughout, $Z \\sim \\mathcal{N}(0,\\sigma^2)$ is a random variable independent of $\\Theta$ and $\\Theta$ has the same distributionas $\\Theta_1,...,\\Theta_p$. Your next task is to compute numerically solutions $\\tau^*, b^*$ to the system of equations $$\\begin{cases} \\tau^2 = \\sigma^2 + \\frac{1}{\\delta} \\mathbb{E}[(\\eta(\\Theta + \\tau Z, \\frac{\\tau \\lambda}{b}) - \\Theta)^2] \\\\ b = \\tau (1 - \\frac{1}{\\delta} \\mathbb{E}[\\eta'(\\Theta + \\tau Z, \\frac{\\tau \\lambda}{b})]) \\end{cases}$$ with unknown $(\\tau,b)$; here the function $\\eta(u,t)$ for $u \\in \\mathbb{R}$ and $t \\geq 0$ is given by $\\eta(u,t) = \\text{sign}(u) \\text{max}(\\vert u \\vert − t,0)$. Note that the solutions $(\\tau^*, b^*)$ implicitly depend on $(\\lambda, \\delta)$ and the distribution of $\\Theta$. Changing the values of $\\lambda, \\delta$ modifies the values of $(\\tau^*, b^*)$ although the dependence in $(\\lambda, \\delta)$ is implicit. To solve the above system for various values of $\\lambda$, it is convenient to instead consider a parameter $\\alpha >0$ such that $\\alpha = \\frac{\\lambda}{b}$, so that the second argument of $\\eta$ and $\\eta'$ in the above system is reduced to $\\tau \\alpha$. For a given $\\alpha$, the goal is to first compute a solution $\\tau^*(\\alpha)$ of the equation\n",
    "\n",
    "\\begin{equation}\n",
    "    \\tag{1}\n",
    "    \\tau^2 = \\sigma^2 + \\frac{1}{\\delta} \\mathbb{E}[(\\eta(\\Theta + \\tau Z, \\tau \\alpha) - \\Theta)^2]\n",
    "\\end{equation}\n",
    "\n",
    "with unknown $\\tau$. From this solution $\\tau^*(\\alpha)$, define  $b^*(\\alpha)$ using the second equation, i.e.\n",
    "\n",
    "\\begin{equation}\n",
    "    \\tag{2}\n",
    "    b^* (\\alpha) = \\tau^* (\\alpha) (1 - \\frac{1}{\\delta} \\mathbb{E}[\\eta'(\\Theta + \\tau^* (\\alpha) Z, \\alpha \\tau^* (\\alpha))])\n",
    "\\end{equation}\n",
    "\n",
    "and finally get back the correspondence between $\\alpha$ and $\\lambda$ by $\\lambda (\\alpha)$ = $\\alpha b^* (\\alpha)$."
   ]
  },
  {
   "cell_type": "markdown",
   "metadata": {},
   "source": [
    "#### Second task"
   ]
  },
  {
   "cell_type": "markdown",
   "metadata": {},
   "source": [
    "#### Question 1  \n",
    "Plot the function $u \\mapsto \\eta(u,t)$ for $t = 1,2,3$."
   ]
  },
  {
   "cell_type": "code",
   "execution_count": 29,
   "metadata": {},
   "outputs": [
    {
     "data": {
      "image/png": "[encoded data removed]",
      "text/plain": [
       "<Figure size 432x288 with 1 Axes>"
      ]
     },
     "metadata": {
      "needs_background": "light"
     },
     "output_type": "display_data"
    }
   ],
   "source": [
    "def eta(u,t):\n",
    "    return np.sign(u) * np.maximum(np.abs(u) - t, 0)\n",
    "\n",
    "plt.figure()\n",
    "U = list(np.linspace(-5,5,200))\n",
    "for t in [1,2,3]:\n",
    "    plt.plot(U, [eta(u,t) for u in U], label = \"t = \" + str(t))\n",
    "plt.legend()\n",
    "plt.show()"
   ]
  },
  {
   "cell_type": "markdown",
   "metadata": {},
   "source": [
    "#### Question 2  \n",
    "What is the almost everywhere derivative of $u \\mapsto \\eta(u,t)$ ?"
   ]
  },
  {
   "cell_type": "markdown",
   "metadata": {},
   "source": [
    "##### Answer :\n",
    "It is : $$\\begin{cases} \\begin{array}{cl} 1 & \\text{if $\\vert u \\vert - t > 0$} \\\\ -1 & \\text{if $\\vert u \\vert - t < 0$} \\end{array} \\end{cases}$$"
   ]
  },
  {
   "cell_type": "markdown",
   "metadata": {},
   "source": [
    "#### Question 3  \n",
    "Using integration by parts, rewrite the system of nonlinear\n",
    "equations to remove the expectations, using the standard normal probability density function $\\phi(u) = \\sqrt{2 \\pi}^{−1} e{−\\frac{u^2}{2}}$ and cumulative distribution function $\\Phi(u) = \\int_{- \\infty} ^u \\phi(v) \\text{d}v$ (hint:\n",
    "you may check your calculations by comparing your expression for equation $(1)$ to the value of $F_\\alpha (\\tau^2)$ given in the first few lines of the proof of lemma A.5 in https://arxiv.org/abs/1811.01212)."
   ]
  },
  {
   "cell_type": "code",
   "execution_count": null,
   "metadata": {},
   "outputs": [],
   "source": []
  },
  {
   "cell_type": "markdown",
   "metadata": {},
   "source": [
    "#### Question 4  \n",
    "Propose an iterative scheme of the form $\\tau_t = F_{\\alpha, \\delta} (\\tau_{t-1})$ such that $\\tau^*(\\alpha)$ is a solution to $(1)$ if and only if it is a fixed point of $F_{\\alpha, \\delta}$."
   ]
  },
  {
   "cell_type": "code",
   "execution_count": null,
   "metadata": {},
   "outputs": [],
   "source": []
  },
  {
   "cell_type": "markdown",
   "metadata": {},
   "source": [
    "#### Question 5  \n",
    "For given $(\\alpha, \\lambda)$, implement in Python this numerical scheme to compute approximate $\\tau^*(\\alpha)$, and once $\\tau^*$ is computed, im- plement the computation of $b^*(\\alpha)$ and $\\lambda^*(\\alpha)$. You can access optimized code to compute $\\phi$ and $\\Phi$ in scipy.stats.norm.pdf and .cdf respectively."
   ]
  },
  {
   "cell_type": "code",
   "execution_count": 30,
   "metadata": {},
   "outputs": [
    {
     "name": "stdout",
     "output_type": "stream",
     "text": [
      "tau = 0.6380523217980136\n",
      "b =  0.2815750620148169\n"
     ]
    }
   ],
   "source": [
    "from random import randint\n",
    "import scipy.stats\n",
    "phi = scipy.stats.norm.pdf\n",
    "Phi = scipy.stats.norm.cdf\n",
    "from math import sqrt\n",
    "\n",
    "def solve_implement(F, alpha, delta, nb, tho_0, sigma2, eps):\n",
    "    tho_1 = tho_0\n",
    "    tho_2 = sqrt(F(alpha, delta, tho_0, sigma2, nb))\n",
    "    it = 0\n",
    "    while abs(tho_1 - tho_2) > eps and it < 1000:\n",
    "        tho_1 = tho_2\n",
    "        tho_2 = sqrt(F(alpha, delta, tho_1, sigma2, nb))\n",
    "        it += 1\n",
    "    return tho_1\n",
    "\n",
    "def F(alpha, delta, tho, sigma2, nb):\n",
    "    return sigma2 + (tho**2)*(1+alpha**2+Esp(tho, alpha, delta, nb))/delta\n",
    "\n",
    "def Theta():\n",
    "    r = np.random.choice(np.array([-1, 1]))\n",
    "    B = np.random.binomial(1, 0.128)\n",
    "    return B*r\n",
    "\n",
    "def Esp(tho, alpha, delta, nb):\n",
    "    M = 0\n",
    "    for i in range(nb):\n",
    "        x = Theta() / tho\n",
    "        M += (x**2 - alpha**2 - 1)*(Phi(alpha-x) - Phi(-alpha - x)) - (x + alpha)*phi(alpha - x) + (x - alpha)*phi(x + alpha)  \n",
    "    M /= nb\n",
    "    return M\n",
    "\n",
    "def NEsp(tho, alpha, delta, nb):\n",
    "    M = 0\n",
    "    for i in range(nb):\n",
    "        x = Theta() / tho\n",
    "        M += Phi(x - alpha) + Phi(-x - alpha)  \n",
    "    M /= nb\n",
    "    return M\n",
    "\n",
    "def compute_b(tho, delta, alpha, nb):\n",
    "    return tho*(1 - NEsp(tho, alpha, delta, nb)/delta)\n",
    "\n",
    "def compute_lambda(b, alpha):\n",
    "    return b*alpha\n",
    "\n",
    "tho_0 = sqrt(0.2 + 1/(2*0.64))\n",
    "tau = solve_implement(F, 1, 0.64, 100, tho_0, 0.2, 1e-1)\n",
    "b = compute_b(tau,0.64,1,100)\n",
    "print(\"tau =\", tau)\n",
    "print(\"b = \", b)"
   ]
  },
  {
   "cell_type": "markdown",
   "metadata": {},
   "source": [
    "#### Question 6  \n",
    "Set $\\delta = 0.64$ and $\\sigma^2 = 0.2$. For a grid of $\\alpha$’s equispaced in an interval of the form $[0,t]$, plot the curves (a) $(\\alpha, \\tau^*(\\alpha))$, (b) $(\\alpha, b^*(\\alpha))$, (c) $(\\alpha, \\lambda(\\alpha))$ and finally (d) $(\\lambda(\\alpha), \\delta(\\tau^∗(\\alpha)^2 − \\sigma^2)$. Compare curve (d) with Figure 6 in the paper *The LASSO risk for gaussian matrices* by Bayati and Montanari (2011); the curves should coincide for these values of $\\delta$ and $\\sigma$."
   ]
  },
  {
   "cell_type": "code",
   "execution_count": 13,
   "metadata": {},
   "outputs": [
    {
     "ename": "TypeError",
     "evalue": "compute_b() takes 3 positional arguments but 4 were given",
     "output_type": "error",
     "traceback": [
      "\u001b[0;31m---------------------------------------------------------------------------\u001b[0m",
      "\u001b[0;31mTypeError\u001b[0m                                 Traceback (most recent call last)",
      "\u001b[0;32m<ipython-input-13-91769cf25538>\u001b[0m in \u001b[0;36m<module>\u001b[0;34m\u001b[0m\n\u001b[1;32m     13\u001b[0m     \u001b[0mTho\u001b[0m\u001b[0;34m.\u001b[0m\u001b[0mappend\u001b[0m\u001b[0;34m(\u001b[0m\u001b[0mtho\u001b[0m\u001b[0;34m)\u001b[0m\u001b[0;34m\u001b[0m\u001b[0;34m\u001b[0m\u001b[0m\n\u001b[1;32m     14\u001b[0m     \u001b[0mTho_square\u001b[0m\u001b[0;34m.\u001b[0m\u001b[0mappend\u001b[0m\u001b[0;34m(\u001b[0m\u001b[0mdelta\u001b[0m\u001b[0;34m*\u001b[0m\u001b[0;34m(\u001b[0m\u001b[0mtho\u001b[0m\u001b[0;34m**\u001b[0m\u001b[0;36m2\u001b[0m\u001b[0;34m-\u001b[0m\u001b[0msigma2\u001b[0m\u001b[0;34m)\u001b[0m\u001b[0;34m)\u001b[0m\u001b[0;34m\u001b[0m\u001b[0;34m\u001b[0m\u001b[0m\n\u001b[0;32m---> 15\u001b[0;31m     \u001b[0mb\u001b[0m \u001b[0;34m=\u001b[0m \u001b[0mcompute_b\u001b[0m\u001b[0;34m(\u001b[0m\u001b[0mtho\u001b[0m\u001b[0;34m,\u001b[0m \u001b[0mdelta\u001b[0m\u001b[0;34m,\u001b[0m \u001b[0ma\u001b[0m\u001b[0;34m,\u001b[0m \u001b[0;36m100\u001b[0m\u001b[0;34m)\u001b[0m\u001b[0;34m\u001b[0m\u001b[0;34m\u001b[0m\u001b[0m\n\u001b[0m\u001b[1;32m     16\u001b[0m     \u001b[0mB\u001b[0m\u001b[0;34m.\u001b[0m\u001b[0mappend\u001b[0m\u001b[0;34m(\u001b[0m\u001b[0mb\u001b[0m\u001b[0;34m)\u001b[0m\u001b[0;34m\u001b[0m\u001b[0;34m\u001b[0m\u001b[0m\n\u001b[1;32m     17\u001b[0m     \u001b[0ml\u001b[0m \u001b[0;34m=\u001b[0m \u001b[0mcompute_lambda\u001b[0m\u001b[0;34m(\u001b[0m\u001b[0mb\u001b[0m\u001b[0;34m,\u001b[0m \u001b[0ma\u001b[0m\u001b[0;34m)\u001b[0m\u001b[0;34m\u001b[0m\u001b[0;34m\u001b[0m\u001b[0m\n",
      "\u001b[0;31mTypeError\u001b[0m: compute_b() takes 3 positional arguments but 4 were given"
     ]
    },
    {
     "data": {
      "image/png": "[encoded data removed]",
      "text/plain": [
       "<Figure size 720x720 with 4 Axes>"
      ]
     },
     "metadata": {
      "needs_background": "light"
     },
     "output_type": "display_data"
    }
   ],
   "source": [
    "delta = 0.64\n",
    "sigma2 = 0.2\n",
    "alpha = np.linspace(0.4, 4, 30)\n",
    "Tho = []\n",
    "Tho_square = []\n",
    "B = []\n",
    "Lambda = []\n",
    "\n",
    "fig, axs = plt.subplots(4, 1, constrained_layout=True, figsize=(10, 10))\n",
    "\n",
    "for a in alpha:\n",
    "    tho = solve_implement(F, a, delta, 100, sqrt(sigma2 + 1/(2*delta)), sigma2, 1e-2)\n",
    "    Tho.append(tho)\n",
    "    Tho_square.append(delta*(tho**2-sigma2))\n",
    "    b = compute_b(tho, delta, a, 100)\n",
    "    B.append(b)\n",
    "    l = compute_lambda(b, a)\n",
    "    Lambda.append(l)\n",
    "\n",
    "fig.suptitle(r\"Plots of $\\mathbf{\\tau^* (\\alpha)}$, $\\mathbf{b^* (\\alpha)}$, $\\mathbf{\\lambda (\\alpha)}$\" \\\n",
    "                r\" with respect to $\\mathbf{\\alpha}$ and $\\mathbf{\\delta\\left( \\tau^* (\\alpha)^2 - \\sigma^2 \\right) }$\"\\\n",
    "                r\" with respect to $\\mathbf{\\lambda(\\alpha)}$\")\n",
    "axs[0].plot(alpha, Tho,marker='x')\n",
    "axs[0].set_ylabel(r\"$\\mathbf{\\tau^* (\\alpha)}$\")\n",
    "axs[0].set_xlabel(r\"$\\mathbf{\\alpha}$\")\n",
    "axs[1].plot(alpha, B,marker='x')\n",
    "axs[1].set_xlabel(r\"$\\mathbf{\\alpha}$\")\n",
    "axs[1].set_ylabel(r\"$\\mathbf{b^* (\\alpha)}$\")\n",
    "axs[2].plot(alpha, Lambda,marker='x')\n",
    "axs[2].set_xlabel(r\"$\\mathbf{\\alpha}$\")\n",
    "axs[2].set_ylabel(r\"$\\mathbf{\\lambda (\\alpha)}$\")\n",
    "axs[3].plot(Lambda, (Tho_square),marker='x')\n",
    "axs[3].set_ylabel(r\"$\\mathbf{\\delta\\left( \\tau^* (\\alpha)^2 - \\sigma^2 \\right) }$\")\n",
    "axs[3].set_xlabel(r\"$\\mathbf{\\lambda(\\alpha)}$\")"
   ]
  },
  {
   "cell_type": "markdown",
   "metadata": {},
   "source": [
    "#### Question 7  \n",
    "Now compare curve (d) of the previous question to the boxplots of the performance of the Lasso. Combine the theoretical curve $(\\lambda(\\alpha), \\delta(\\tau^∗(\\alpha)^2 − \\sigma^2))$ on the same plot as the experimental boxplots and verity that the theoretical curve correctly predicts the experimental performance in the boxplots. Try different values of $\\sigma^2, \\delta$ (say, 3 different other combinations) and observe whether the theoretical curve correctly predicts the experimental performance in the boxplots."
   ]
  },
  {
   "cell_type": "code",
   "execution_count": null,
   "metadata": {},
   "outputs": [],
   "source": []
  },
  {
   "cell_type": "markdown",
   "metadata": {},
   "source": [
    "#### Question 8  \n",
    "Compare the previous iterative scheme $\\tau_t = F_{\\alpha, \\delta} (\\tau_{t-1})$ this with another idea to compute $\\tau^*(\\alpha)$, which consists, at each step t, of replacing the expectation in the right hand side of the system by averages over 100 000 independent copies of $(\\Theta,Z)$. (Use 100 000 fresh independent copies at each iteration $t$). Do the two implementations coincide ? You may change the value 100 000 to a smaller/larger one depending on the power of your laptop."
   ]
  },
  {
   "cell_type": "code",
   "execution_count": 36,
   "metadata": {
    "pycharm": {
     "name": "#%%\n"
    }
   },
   "outputs": [
    {
     "data": {
      "text/plain": [
       "(0.0010958064524732379, -0.9497)"
      ]
     },
     "execution_count": 36,
     "metadata": {},
     "output_type": "execute_result"
    }
   ],
   "source": [
    "def eta_prime(u,t):\n",
    "    return (np.abs(u) - t > 0)*2 - 1\n",
    "\n",
    "def list_theta_Z(p=0.128,sigma2=0.2,test_size = 100000):\n",
    "    theta = np.random.binomial(0,p,size=test_size)* np.random.choice(np.array([-1, 1]),test_size)\n",
    "    Z = np.random.normal(0,sqrt(sigma2),size=test_size)\n",
    "    return theta, Z\n",
    "\n",
    "def compute_esp(tau, alpha,p=0.128,sigma2=0.2,test_size = 100000):\n",
    "    theta, Z = list_theta_Z(p,sigma2,test_size)\n",
    "    esp1 = np.mean((eta(theta+tau*Z,tau*alpha)-theta)**2)\n",
    "    esp2 = np.mean(eta_prime(theta+tau*Z,tau*alpha))\n",
    "    return esp1, esp2\n",
    "compute_esp(sqrt(0.2 + 1/(2*0.64)),1)"
   ]
  },
  {
   "cell_type": "code",
   "execution_count": 37,
   "metadata": {},
   "outputs": [
    {
     "name": "stdout",
     "output_type": "stream",
     "text": [
      "0.9905806378079475\n",
      "1.8077987507523052\n",
      "3.2298067240033035\n",
      "5.742111556292968\n",
      "10.248040656876606\n",
      "18.619694717473905\n",
      "35.8302111312789\n",
      "82.91274510358826\n",
      "320.58947402160754\n",
      "4351.87622255418\n",
      "806568.7160325767\n",
      "27269710753.09176\n",
      "3.130366789629661e+19\n",
      "4.056832666421845e+37\n",
      "6.828606325890026e+73\n",
      "1.940514873331497e+146\n",
      "tau_new = inf\n",
      "b_new =  inf\n"
     ]
    },
    {
     "name": "stderr",
     "output_type": "stream",
     "text": [
      "<ipython-input-37-8c7df3d1f683>:2: RuntimeWarning: overflow encountered in double_scalars\n",
      "  return sigma2 + (tho**2)*(1+alpha**2+compute_esp(tho,alpha,sigma2=sigma2)[0])/delta\n",
      "<ipython-input-29-c7829d657d5e>:2: RuntimeWarning: invalid value encountered in subtract\n",
      "  return np.sign(u) * np.maximum(np.abs(u) - t, 0)\n"
     ]
    }
   ],
   "source": [
    "def F_new(alpha, delta, tho, sigma2):\n",
    "    return sigma2 + (tho**2)*(1+alpha**2+compute_esp(tho,alpha,sigma2=sigma2)[0])/delta\n",
    "\n",
    "def compute_b_new(tho, delta, alpha):\n",
    "    return tho*(1 - compute_esp(tho,alpha,sigma2=sigma2)[1]/delta)\n",
    "\n",
    "def solve_implement_new(F, alpha, delta, nb, tho_0, sigma2, eps):\n",
    "    tho_1 = tho_0\n",
    "    tho_2 = sqrt(F(alpha, delta, tho_0, sigma2))\n",
    "    it = 0\n",
    "    while abs(tho_1 - tho_2) > eps and it < 1000:\n",
    "        print(tho_1)\n",
    "        tho_1 = tho_2\n",
    "        tho_2 = sqrt(F(alpha, delta, tho_1, sigma2))\n",
    "        it += 1\n",
    "    return tho_1\n",
    "\n",
    "tho_0 = sqrt(0.2 + 1/(2*0.64))\n",
    "tau_new = solve_implement_new(F_new, 1, 0.64, 100, tho_0, 0.2, 1e-1)\n",
    "print(\"tau_new =\", tau_new)\n",
    "print(\"b_new = \", compute_b_new(tau,0.64,1))"
   ]
  }
 ],
 "metadata": {
  "kernelspec": {
   "display_name": "Python 3",
   "language": "python",
   "name": "python3"
  },
  "language_info": {
   "codemirror_mode": {
    "name": "ipython",
    "version": 3
   },
   "file_extension": ".py",
   "mimetype": "text/x-python",
   "name": "python",
   "nbconvert_exporter": "python",
   "pygments_lexer": "ipython3",
   "version": "3.8.5"
  }
 },
 "nbformat": 4,
 "nbformat_minor": 4
}
