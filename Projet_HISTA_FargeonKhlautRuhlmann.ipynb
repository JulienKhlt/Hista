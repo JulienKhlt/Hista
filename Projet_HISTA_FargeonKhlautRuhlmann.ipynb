{
 "cells": [
  {
   "cell_type": "markdown",
   "metadata": {},
   "source": [
    "Aaron FARGEON  \n",
    "Julien KHLAUT  \n",
    "Pierre-Louis RUHLMANN"
   ]
  },
  {
   "cell_type": "markdown",
   "metadata": {},
   "source": [
    "# PROJECT 3 : PERFORMANCE OF THE LASSO IN HIGH-DEMENSIONAL LINEAR REGRESSION"
   ]
  },
  {
   "cell_type": "code",
   "execution_count": 27,
   "metadata": {},
   "outputs": [],
   "source": [
    "import numpy as np\n",
    "import matplotlib.pyplot as plt\n",
    "import scipy.optimize as opt"
   ]
  },
  {
   "cell_type": "markdown",
   "metadata": {},
   "source": [
    "We consider a linear model where one observes iid observations $$y_i = x_i^T \\beta^* + \\varepsilon_i$$ where $x_i$ has iid $\\mathcal{N}(0,1)$ entries and $\\varepsilon_i \\sim \\mathcal{N}(0,\\sigma^2)$. The goal is to study the performance of the Lasso\n",
    "\n",
    "\\begin{equation}\n",
    "    \\tag{L}\n",
    "    \\hat{\\beta} = \\underset{b \\in \\mathbb{R}^p}{\\text{argmin}} \\frac{1}{n} \\sum\\limits_{i=1}^n \\frac{(y_i - x_i^T b)^2}{2} + n^{-\\frac{1}{2}} \\lambda \\vert \\vert b \\vert \\vert_1\n",
    "\\end{equation}\n",
    "\n",
    "where $\\lambda > 0$ is a tuning parameter."
   ]
  },
  {
   "cell_type": "markdown",
   "metadata": {},
   "source": [
    "We focus on the situation where if $p, n$ are high but of the same order, i.e. $\\frac{n}{p} = \\delta$ (or $\\frac{p}{n} \\rightarrow \\delta$) for some constant $\\delta > 0$ independent of $n,p$. We will also assume that for each $n,p$, the true $\\beta^*$ is such that $\\beta^*_j = \\frac{\\Theta_j}{\\sqrt{p}}$ where $\\Theta_1,...,\\Theta_p$ are iid random variables of the form $\\Theta_j=r_j B_j$ where $Bj$ has the Bernoulli distribution with parameter 0.128 and $r_j \\in \\{\\pm1\\}$ is a random sign independent of $B_j$ with $\\mathbb{E}[r_j] = 0$. The true parameter $\\beta^*$ is thus “sparse” in the sense that, approximately, only 12.8 percent of coordinates are nonzero."
   ]
  },
  {
   "cell_type": "markdown",
   "metadata": {},
   "source": [
    "#### First task  \n",
    "Set $\\delta = 0.64$ and $\\sigma^2 = 0.2$. For each tuning parameter $\\lambda$ on a grid of equispaced points in $[0,2.5]$, compute 10 different datasets with $p= 400$, $n=p \\delta$, design matrix $X$ with iid entries, $\\varepsilon_i \\sim \\mathcal{N}(0,\\sigma^2)$, $\\beta^* \\in \\mathbb{R}^p$ generated with iid components $\\frac{\\Theta_j}{\\sqrt{p}}$ as  explained above, and for each dataset compute the  estimator $\\hat{\\beta}$ in $(\\text{L})$ and report its performance $\\vert \\vert \\hat{\\beta} − \\beta^* \\vert \\vert^2$ in boxplots where the $x$-axis represents $\\lambda$ and the $y$-axis $\\vert \\vert \\hat{\\beta} − \\beta^* \\vert \\vert^2$. You can for instance use seaborn’s boxplot. If your computer is sufficiently powerful, plot similar boxplots with $p = 600$ and/or $p= 800$ with always $n=p \\delta$, $\\delta= 0.64$."
   ]
  },
  {
   "cell_type": "code",
   "execution_count": 34,
   "metadata": {},
   "outputs": [],
   "source": [
    "def lasso(b, y, X, n, l):\n",
    "    return np.mean((y - np.dot(X.T, b))**2 / 2) + (l * np.linalg.norm(b, ord = 1)) / np.sqrt(n)\n",
    "    "
   ]
  },
  {
   "cell_type": "code",
   "execution_count": 43,
   "metadata": {},
   "outputs": [
    {
     "data": {
      "text/plain": [
       "[<matplotlib.lines.Line2D at 0x10c9db730>]"
      ]
     },
     "execution_count": 43,
     "metadata": {},
     "output_type": "execute_result"
    },
    {
     "data": {
      "image/png": "[encoded data removed]",
      "text/plain": [
       "<Figure size 432x288 with 1 Axes>"
      ]
     },
     "metadata": {
      "needs_background": "light"
     },
     "output_type": "display_data"
    }
   ],
   "source": [
    "delta = 0.64\n",
    "sigma2 = 0.2\n",
    "\n",
    "grid = np.linspace(0, 2.5, 10)\n",
    "\n",
    "p = 400\n",
    "n = int(p * delta)\n",
    "\n",
    "diff = []\n",
    "\n",
    "for l in grid:\n",
    "    \n",
    "    for i in range(n):\n",
    "        x = np.random.normal(0, 1, size = (p,1))\n",
    "        if i == 0:\n",
    "            X = x\n",
    "        else:\n",
    "            X = np.concatenate((X,x), axis = 1)\n",
    "            \n",
    "    epsilon = np.random.normal(0, sigma2, size = (n,1))\n",
    "    \n",
    "    beta_star = np.zeros((p,1))\n",
    "    for j in range(p):\n",
    "        rj = np.random.choice(np.array([-1, 1]))\n",
    "        Bj = np.random.binomial(1, 0.128)\n",
    "        beta_star[j,0] = (rj * Bj) / np.sqrt(p)\n",
    "    \n",
    "    y = np.dot(X.T, beta_star) + epsilon\n",
    "    \n",
    "    def lasso_l(b):\n",
    "        return lasso(b, y, X, n, l)\n",
    "    \n",
    "    beta_star = np.array([beta_star[j,0] for j in range(p)])\n",
    "    beta_hat = opt.minimize(lasso_l, beta_star)\n",
    "    \n",
    "    diff.append(np.linalg.norm(beta_hat.x - beta_star))\n",
    "\n",
    "plt.plot(grid, diff)\n"
   ]
  },
  {
   "cell_type": "markdown",
   "metadata": {},
   "source": [
    "#### A system of two linear equations  \\n\n",
    "Throughout, $Z \\sim \\mathcal{N}(0,\\sigma^2)$ is a random variable independent of $\\Theta$ and $\\Theta$ has the same distributionas $\\Theta_1,...,\\Theta_p$. Your next task is to compute numerically solutions $\\tau^*, b^*$ to the system of equations $$\\begin{cases} \\tau^2 = \\sigma^2 + \\frac{1}{\\delta} \\mathbb{E}[(\\eta(\\Theta + \\tau Z, \\frac{\\tau \\lambda}{b}) - \\Theta)^2] \\\\ b = \\tau (1 - \\frac{1}{\\delta} \\mathbb{E}[\\eta'(\\Theta + \\tau Z, \\frac{\\tau \\lambda}{b})]) \\end{cases}$$ with unknown $(\\tau,b)$; here the function $\\eta(u,t)$ for $u \\in \\mathbb{R}$ and $t \\geq 0$ is given by $\\eta(u,t) = \\text{sign}(u) \\text{max}(\\vert u \\vert − t,0)$. Note that the solutions $(\\tau^*, b^*)$ implicitly depend on $(\\lambda, \\delta)$ and the distribution of $\\Theta$. Changing the values of $\\lambda, \\delta$ modifies the values of $(\\tau^*, b^*)$ although the dependence in $(\\lambda, \\delta)$ is implicit. To solve the above system for various values of $\\lambda$, it is convenient to instead consider a parameter $\\alpha >0$ such that $\\alpha = \\frac{\\lambda}{b}$, so that the second argument of $\\eta$ and $\\eta'$ in the above system is reduced to $\\tau \\alpha$. For a given $\\alpha$, the goal is to first compute a solution $\\tau^*(\\alpha)$ of the equation\n",
    "\n",
    "\\begin{equation}\n",
    "    \\tag{1}\n",
    "    \\tau^2 = \\sigma^2 + \\frac{1}{\\delta} \\mathbb{E}[(\\eta(\\Theta + \\tau Z, \\tau \\alpha) - \\Theta)^2]\n",
    "\\end{equation}\n",
    "\n",
    "with unknown $\\tau$. From this solution $\\tau^*(\\alpha)$, define  $b^*(\\alpha)$ using the second equation, i.e.\n",
    "\n",
    "\\begin{equation}\n",
    "    \\tag{2}\n",
    "    b^* (\\alpha) = \\tau^* (\\alpha) (1 - \\frac{1}{\\delta} \\mathbb{E}[\\eta'(\\Theta + \\tau^* (\\alpha) Z, \\alpha \\tau^* (\\alpha))])\n",
    "\\end{equation}\n",
    "\n",
    "and finally get back the correspondence between $\\alpha$ and $\\lambda$ by $\\lambda (\\alpha)$ = $\\alpha b^* (\\alpha)$."
   ]
  },
  {
   "cell_type": "markdown",
   "metadata": {},
   "source": [
    "#### Second task"
   ]
  },
  {
   "cell_type": "markdown",
   "metadata": {},
   "source": [
    "#### Question 1  \n",
    "Plot the function $u \\mapsto \\eta(u,t)$ for $t = 1,2,3$."
   ]
  },
  {
   "cell_type": "code",
   "execution_count": 7,
   "metadata": {},
   "outputs": [
    {
     "data": {
      "image/png": "[encoded data removed]",
      "text/plain": [
       "<Figure size 432x288 with 1 Axes>"
      ]
     },
     "metadata": {
      "needs_background": "light"
     },
     "output_type": "display_data"
    }
   ],
   "source": [
    "def eta(u,t):\n",
    "    return np.sign(u) * max(abs(u) - t, 0)\n",
    "\n",
    "plt.figure()\n",
    "U = list(np.linspace(-5,5,200))\n",
    "for t in [1,2,3]:\n",
    "    plt.plot(U, [eta(u,t) for u in U], label = \"t = \" + str(t))\n",
    "plt.legend()\n",
    "plt.show()"
   ]
  },
  {
   "cell_type": "markdown",
   "metadata": {},
   "source": [
    "#### Question 2  \n",
    "What is the almost everywhere derivative of $u \\mapsto \\eta(u,t)$ ?"
   ]
  },
  {
   "cell_type": "markdown",
   "metadata": {},
   "source": [
    "##### Answer :\n",
    "It is : $$\\begin{cases} \\begin{array}{cl} 1 & \\text{if $\\vert u \\vert - t > 0$} \\\\ 1 & \\text{if $\\vert u \\vert - t < 0$} \\end{array} \\end{cases}$$"
   ]
  },
  {
   "cell_type": "markdown",
   "metadata": {},
   "source": [
    "#### Question 3  \n",
    "Using integration by parts, rewrite the system of nonlinear\n",
    "equations to remove the expectations, using the standard normal probability density function $\\phi(u) = \\sqrt{2 \\pi}^{−1} e{−\\frac{u^2}{2}}$ and cumulative distribution function $\\Phi(u) = \\int_{- \\infty} ^u \\phi(v) \\text{d}v$ (hint:\n",
    "you may check your calculations by comparing your expression for equation $(1)$ to the value of $F_\\alpha (\\tau^2)$ given in the first few lines of the proof of lemma A.5 in https://arxiv.org/abs/1811.01212)."
   ]
  },
  {
   "cell_type": "code",
   "execution_count": null,
   "metadata": {},
   "outputs": [],
   "source": []
  },
  {
   "cell_type": "markdown",
   "metadata": {},
   "source": [
    "#### Question 4  \n",
    "Propose an iterative scheme of the form $\\tau_t = F_{\\alpha, \\delta} (\\tau_{t-1})$ such that $\\tau^*(\\alpha)$ is a solution to $(1)$ if and only if it is a fixed point of $F_{\\alpha, \\delta}$."
   ]
  },
  {
   "cell_type": "code",
   "execution_count": null,
   "metadata": {},
   "outputs": [],
   "source": []
  },
  {
   "cell_type": "markdown",
   "metadata": {},
   "source": [
    "#### Question 5  \n",
    "For given $(\\alpha, \\lambda)$, implement in Python this numerical scheme to compute approximate $\\tau^*(\\alpha)$, and once $\\tau^*$ is computed, im- plement the computation of $b^*(\\alpha)$ and $\\lambda^*(\\alpha)$. You can access optimized code to compute $\\phi$ and $\\Phi$ in scipy.stats.norm.pdf and .cdf respectively."
   ]
  },
  {
   "cell_type": "code",
   "execution_count": null,
   "metadata": {},
   "outputs": [],
   "source": []
  },
  {
   "cell_type": "markdown",
   "metadata": {},
   "source": [
    "#### Question 6  \n",
    "Set $\\delta = 0.64$ and $\\sigma^2 = 0.2$. For a grid of $\\alpha$’s equispaced in an interval of the form $[0,t]$, plot the curves (a) $(\\alpha, \\tau^*(\\alpha))$, (b) $(\\alpha, b^*(\\alpha))$, (c) $(\\alpha, \\lambda(\\alpha))$ and finally (d) $(\\lambda(\\alpha), \\delta(\\tau^∗(\\alpha)^2 − \\sigma^2)$. Compare curve (d) with Figure 6 in the paper *The LASSO risk for gaussian matrices* by Bayati and Montanari (2011); the curves should coincide for these values of $\\delta$ and $\\sigma$."
   ]
  },
  {
   "cell_type": "code",
   "execution_count": null,
   "metadata": {},
   "outputs": [],
   "source": [
    "delta = 0.64\n",
    "sigma2 = 0.2"
   ]
  },
  {
   "cell_type": "markdown",
   "metadata": {},
   "source": [
    "#### Question 7  \n",
    "Now compare curve (d) of the previous question to the boxplots of the performance of the Lasso. Combine the theoretical curve $(\\lambda(\\alpha), \\delta(\\tau^∗(\\alpha)^2 − \\sigma^2))$ on the same plot as the experimental boxplots and verity that the theoretical curve correctly predicts the experimental performance in the boxplots. Try different values of $\\sigma^2, \\delta$ (say, 3 different other combinations) and observe whether the theoretical curve correctly predicts the experimental performance in the boxplots."
   ]
  },
  {
   "cell_type": "code",
   "execution_count": null,
   "metadata": {},
   "outputs": [],
   "source": []
  },
  {
   "cell_type": "markdown",
   "metadata": {},
   "source": [
    "#### Question 8  \n",
    "Compare the previous iterative scheme $\\tau_t = F_{\\alpha, \\delta} (\\tau_{t-1})$ this with another idea to compute $\\tau^*(\\alpha)$, which consists, at each step t, of replacing the expectation in the right hand side of the system by averages over 100 000 independent copies of $(\\Theta,Z)$. (Use 100 000 fresh independent copies at each iteration $t$). Do the two implementations coincide ? You may change the value 100 000 to a smaller/larger one depending on the power of your laptop."
   ]
  },
  {
   "cell_type": "code",
   "execution_count": null,
   "metadata": {},
   "outputs": [],
   "source": []
  }
 ],
 "metadata": {
  "kernelspec": {
   "display_name": "Python 3",
   "language": "python",
   "name": "python3"
  },
  "language_info": {
   "codemirror_mode": {
    "name": "ipython",
    "version": 3
   },
   "file_extension": ".py",
   "mimetype": "text/x-python",
   "name": "python",
   "nbconvert_exporter": "python",
   "pygments_lexer": "ipython3",
   "version": "3.8.3"
  }
 },
 "nbformat": 4,
 "nbformat_minor": 4
}
